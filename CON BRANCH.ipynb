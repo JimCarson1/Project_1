{
 "cells": [
  {
   "cell_type": "code",
   "execution_count": 53,
   "metadata": {
    "colab": {
     "base_uri": "https://localhost:8080/",
     "height": 17
    },
    "id": "Oi0s0trMhUKc",
    "outputId": "41d612ae-dcd0-4548-d827-e9c298987c8c"
   },
   "outputs": [],
   "source": [
    "# Import the required libraries and dependencies\n",
    "import pandas as pd\n",
    "import matplotlib.pyplot as plt\n",
    "import seaborn as sns\n",
    "%matplotlib inline"
   ]
  },
  {
   "cell_type": "code",
   "execution_count": 54,
   "metadata": {
    "colab": {
     "base_uri": "https://localhost:8080/",
     "height": 235
    },
    "id": "3bDBwAD1hUKe",
    "outputId": "3384d622-a793-4817-f3d1-496d807ab299"
   },
   "outputs": [
    {
     "data": {
      "text/html": [
       "<div>\n",
       "<style scoped>\n",
       "    .dataframe tbody tr th:only-of-type {\n",
       "        vertical-align: middle;\n",
       "    }\n",
       "\n",
       "    .dataframe tbody tr th {\n",
       "        vertical-align: top;\n",
       "    }\n",
       "\n",
       "    .dataframe thead th {\n",
       "        text-align: right;\n",
       "    }\n",
       "</style>\n",
       "<table border=\"1\" class=\"dataframe\">\n",
       "  <thead>\n",
       "    <tr style=\"text-align: right;\">\n",
       "      <th></th>\n",
       "      <th>Age</th>\n",
       "      <th>Gender</th>\n",
       "      <th>Country</th>\n",
       "      <th>state</th>\n",
       "      <th>self_employed</th>\n",
       "      <th>family_history</th>\n",
       "      <th>treatment</th>\n",
       "      <th>work_interfere</th>\n",
       "      <th>no_employees</th>\n",
       "      <th>remote_work</th>\n",
       "      <th>...</th>\n",
       "      <th>leave</th>\n",
       "      <th>mental_health_consequence</th>\n",
       "      <th>phys_health_consequence</th>\n",
       "      <th>coworkers</th>\n",
       "      <th>supervisor</th>\n",
       "      <th>mental_health_interview</th>\n",
       "      <th>phys_health_interview</th>\n",
       "      <th>mental_vs_physical</th>\n",
       "      <th>obs_consequence</th>\n",
       "      <th>comments</th>\n",
       "    </tr>\n",
       "    <tr>\n",
       "      <th>Timestamp</th>\n",
       "      <th></th>\n",
       "      <th></th>\n",
       "      <th></th>\n",
       "      <th></th>\n",
       "      <th></th>\n",
       "      <th></th>\n",
       "      <th></th>\n",
       "      <th></th>\n",
       "      <th></th>\n",
       "      <th></th>\n",
       "      <th></th>\n",
       "      <th></th>\n",
       "      <th></th>\n",
       "      <th></th>\n",
       "      <th></th>\n",
       "      <th></th>\n",
       "      <th></th>\n",
       "      <th></th>\n",
       "      <th></th>\n",
       "      <th></th>\n",
       "      <th></th>\n",
       "    </tr>\n",
       "  </thead>\n",
       "  <tbody>\n",
       "    <tr>\n",
       "      <th>2014-08-27 11:29:31</th>\n",
       "      <td>37</td>\n",
       "      <td>Female</td>\n",
       "      <td>United States</td>\n",
       "      <td>IL</td>\n",
       "      <td>NaN</td>\n",
       "      <td>No</td>\n",
       "      <td>Yes</td>\n",
       "      <td>Often</td>\n",
       "      <td>6-25</td>\n",
       "      <td>No</td>\n",
       "      <td>...</td>\n",
       "      <td>Somewhat easy</td>\n",
       "      <td>No</td>\n",
       "      <td>No</td>\n",
       "      <td>Some of them</td>\n",
       "      <td>Yes</td>\n",
       "      <td>No</td>\n",
       "      <td>Maybe</td>\n",
       "      <td>Yes</td>\n",
       "      <td>No</td>\n",
       "      <td>NaN</td>\n",
       "    </tr>\n",
       "    <tr>\n",
       "      <th>2014-08-27 11:29:37</th>\n",
       "      <td>44</td>\n",
       "      <td>M</td>\n",
       "      <td>United States</td>\n",
       "      <td>IN</td>\n",
       "      <td>NaN</td>\n",
       "      <td>No</td>\n",
       "      <td>No</td>\n",
       "      <td>Rarely</td>\n",
       "      <td>More than 1000</td>\n",
       "      <td>No</td>\n",
       "      <td>...</td>\n",
       "      <td>Don't know</td>\n",
       "      <td>Maybe</td>\n",
       "      <td>No</td>\n",
       "      <td>No</td>\n",
       "      <td>No</td>\n",
       "      <td>No</td>\n",
       "      <td>No</td>\n",
       "      <td>Don't know</td>\n",
       "      <td>No</td>\n",
       "      <td>NaN</td>\n",
       "    </tr>\n",
       "    <tr>\n",
       "      <th>2014-08-27 11:29:44</th>\n",
       "      <td>32</td>\n",
       "      <td>Male</td>\n",
       "      <td>Canada</td>\n",
       "      <td>NaN</td>\n",
       "      <td>NaN</td>\n",
       "      <td>No</td>\n",
       "      <td>No</td>\n",
       "      <td>Rarely</td>\n",
       "      <td>6-25</td>\n",
       "      <td>No</td>\n",
       "      <td>...</td>\n",
       "      <td>Somewhat difficult</td>\n",
       "      <td>No</td>\n",
       "      <td>No</td>\n",
       "      <td>Yes</td>\n",
       "      <td>Yes</td>\n",
       "      <td>Yes</td>\n",
       "      <td>Yes</td>\n",
       "      <td>No</td>\n",
       "      <td>No</td>\n",
       "      <td>NaN</td>\n",
       "    </tr>\n",
       "    <tr>\n",
       "      <th>2014-08-27 11:29:46</th>\n",
       "      <td>31</td>\n",
       "      <td>Male</td>\n",
       "      <td>United Kingdom</td>\n",
       "      <td>NaN</td>\n",
       "      <td>NaN</td>\n",
       "      <td>Yes</td>\n",
       "      <td>Yes</td>\n",
       "      <td>Often</td>\n",
       "      <td>26-100</td>\n",
       "      <td>No</td>\n",
       "      <td>...</td>\n",
       "      <td>Somewhat difficult</td>\n",
       "      <td>Yes</td>\n",
       "      <td>Yes</td>\n",
       "      <td>Some of them</td>\n",
       "      <td>No</td>\n",
       "      <td>Maybe</td>\n",
       "      <td>Maybe</td>\n",
       "      <td>No</td>\n",
       "      <td>Yes</td>\n",
       "      <td>NaN</td>\n",
       "    </tr>\n",
       "    <tr>\n",
       "      <th>2014-08-27 11:30:22</th>\n",
       "      <td>31</td>\n",
       "      <td>Male</td>\n",
       "      <td>United States</td>\n",
       "      <td>TX</td>\n",
       "      <td>NaN</td>\n",
       "      <td>No</td>\n",
       "      <td>No</td>\n",
       "      <td>Never</td>\n",
       "      <td>100-500</td>\n",
       "      <td>Yes</td>\n",
       "      <td>...</td>\n",
       "      <td>Don't know</td>\n",
       "      <td>No</td>\n",
       "      <td>No</td>\n",
       "      <td>Some of them</td>\n",
       "      <td>Yes</td>\n",
       "      <td>Yes</td>\n",
       "      <td>Yes</td>\n",
       "      <td>Don't know</td>\n",
       "      <td>No</td>\n",
       "      <td>NaN</td>\n",
       "    </tr>\n",
       "  </tbody>\n",
       "</table>\n",
       "<p>5 rows × 26 columns</p>\n",
       "</div>"
      ],
      "text/plain": [
       "                     Age  Gender         Country state self_employed  \\\n",
       "Timestamp                                                              \n",
       "2014-08-27 11:29:31   37  Female   United States    IL           NaN   \n",
       "2014-08-27 11:29:37   44       M   United States    IN           NaN   \n",
       "2014-08-27 11:29:44   32    Male          Canada   NaN           NaN   \n",
       "2014-08-27 11:29:46   31    Male  United Kingdom   NaN           NaN   \n",
       "2014-08-27 11:30:22   31    Male   United States    TX           NaN   \n",
       "\n",
       "                    family_history treatment work_interfere    no_employees  \\\n",
       "Timestamp                                                                     \n",
       "2014-08-27 11:29:31             No       Yes          Often            6-25   \n",
       "2014-08-27 11:29:37             No        No         Rarely  More than 1000   \n",
       "2014-08-27 11:29:44             No        No         Rarely            6-25   \n",
       "2014-08-27 11:29:46            Yes       Yes          Often          26-100   \n",
       "2014-08-27 11:30:22             No        No          Never         100-500   \n",
       "\n",
       "                    remote_work  ...               leave  \\\n",
       "Timestamp                        ...                       \n",
       "2014-08-27 11:29:31          No  ...       Somewhat easy   \n",
       "2014-08-27 11:29:37          No  ...          Don't know   \n",
       "2014-08-27 11:29:44          No  ...  Somewhat difficult   \n",
       "2014-08-27 11:29:46          No  ...  Somewhat difficult   \n",
       "2014-08-27 11:30:22         Yes  ...          Don't know   \n",
       "\n",
       "                    mental_health_consequence phys_health_consequence  \\\n",
       "Timestamp                                                               \n",
       "2014-08-27 11:29:31                        No                      No   \n",
       "2014-08-27 11:29:37                     Maybe                      No   \n",
       "2014-08-27 11:29:44                        No                      No   \n",
       "2014-08-27 11:29:46                       Yes                     Yes   \n",
       "2014-08-27 11:30:22                        No                      No   \n",
       "\n",
       "                        coworkers supervisor mental_health_interview  \\\n",
       "Timestamp                                                              \n",
       "2014-08-27 11:29:31  Some of them        Yes                      No   \n",
       "2014-08-27 11:29:37            No         No                      No   \n",
       "2014-08-27 11:29:44           Yes        Yes                     Yes   \n",
       "2014-08-27 11:29:46  Some of them         No                   Maybe   \n",
       "2014-08-27 11:30:22  Some of them        Yes                     Yes   \n",
       "\n",
       "                    phys_health_interview mental_vs_physical obs_consequence  \\\n",
       "Timestamp                                                                      \n",
       "2014-08-27 11:29:31                 Maybe                Yes              No   \n",
       "2014-08-27 11:29:37                    No         Don't know              No   \n",
       "2014-08-27 11:29:44                   Yes                 No              No   \n",
       "2014-08-27 11:29:46                 Maybe                 No             Yes   \n",
       "2014-08-27 11:30:22                   Yes         Don't know              No   \n",
       "\n",
       "                    comments  \n",
       "Timestamp                     \n",
       "2014-08-27 11:29:31      NaN  \n",
       "2014-08-27 11:29:37      NaN  \n",
       "2014-08-27 11:29:44      NaN  \n",
       "2014-08-27 11:29:46      NaN  \n",
       "2014-08-27 11:30:22      NaN  \n",
       "\n",
       "[5 rows x 26 columns]"
      ]
     },
     "execution_count": 54,
     "metadata": {},
     "output_type": "execute_result"
    }
   ],
   "source": [
    "# Read csv file as DataFrame, with the first column as row index\n",
    "df = pd.read_csv(\"Resources/survey.csv\",\n",
    "                 index_col=\"Timestamp\",\n",
    "                 parse_dates=True\n",
    "                )\n",
    "\n",
    "# Preview the dataset\n",
    "df.head()"
   ]
  },
  {
   "cell_type": "code",
   "execution_count": 55,
   "metadata": {},
   "outputs": [
    {
     "data": {
      "text/plain": [
       "Gender\n",
       "Male                                              615\n",
       "male                                              206\n",
       "Female                                            121\n",
       "M                                                 116\n",
       "female                                             62\n",
       "F                                                  38\n",
       "m                                                  34\n",
       "f                                                  15\n",
       "Make                                                4\n",
       "Male                                                3\n",
       "Woman                                               3\n",
       "Cis Male                                            2\n",
       "Man                                                 2\n",
       "Female (trans)                                      2\n",
       "Female                                              2\n",
       "Trans woman                                         1\n",
       "msle                                                1\n",
       "male leaning androgynous                            1\n",
       "Neuter                                              1\n",
       "cis male                                            1\n",
       "queer                                               1\n",
       "Female (cis)                                        1\n",
       "Mail                                                1\n",
       "cis-female/femme                                    1\n",
       "A little about you                                  1\n",
       "Malr                                                1\n",
       "p                                                   1\n",
       "femail                                              1\n",
       "Cis Man                                             1\n",
       "Guy (-ish) ^_^                                      1\n",
       "Enby                                                1\n",
       "Agender                                             1\n",
       "Androgyne                                           1\n",
       "Male-ish                                            1\n",
       "maile                                               1\n",
       "Trans-female                                        1\n",
       "Cis Female                                          1\n",
       "something kinda male?                               1\n",
       "Mal                                                 1\n",
       "Male (CIS)                                          1\n",
       "queer/she/they                                      1\n",
       "non-binary                                          1\n",
       "Femake                                              1\n",
       "woman                                               1\n",
       "Nah                                                 1\n",
       "All                                                 1\n",
       "fluid                                               1\n",
       "Genderqueer                                         1\n",
       "ostensibly male, unsure what that really means      1\n",
       "Name: count, dtype: int64"
      ]
     },
     "execution_count": 55,
     "metadata": {},
     "output_type": "execute_result"
    }
   ],
   "source": [
    "\n",
    "df['Gender'].value_counts()"
   ]
  },
  {
   "cell_type": "code",
   "execution_count": 56,
   "metadata": {
    "id": "CgAfYorIhUKf"
   },
   "outputs": [
    {
     "data": {
      "text/plain": [
       "(1259, 26)"
      ]
     },
     "execution_count": 56,
     "metadata": {},
     "output_type": "execute_result"
    }
   ],
   "source": [
    "df.shape"
   ]
  },
  {
   "cell_type": "code",
   "execution_count": 57,
   "metadata": {
    "id": "QvgaNOuQhUKg"
   },
   "outputs": [
    {
     "name": "stdout",
     "output_type": "stream",
     "text": [
      "check for null values\n"
     ]
    },
    {
     "data": {
      "text/plain": [
       "Age                             0\n",
       "Gender                          0\n",
       "Country                         0\n",
       "state                         515\n",
       "self_employed                  18\n",
       "family_history                  0\n",
       "treatment                       0\n",
       "work_interfere                264\n",
       "no_employees                    0\n",
       "remote_work                     0\n",
       "tech_company                    0\n",
       "benefits                        0\n",
       "care_options                    0\n",
       "wellness_program                0\n",
       "seek_help                       0\n",
       "anonymity                       0\n",
       "leave                           0\n",
       "mental_health_consequence       0\n",
       "phys_health_consequence         0\n",
       "coworkers                       0\n",
       "supervisor                      0\n",
       "mental_health_interview         0\n",
       "phys_health_interview           0\n",
       "mental_vs_physical              0\n",
       "obs_consequence                 0\n",
       "comments                     1095\n",
       "dtype: int64"
      ]
     },
     "execution_count": 57,
     "metadata": {},
     "output_type": "execute_result"
    }
   ],
   "source": [
    "print('check for null values')\n",
    "df.isna().sum()"
   ]
  },
  {
   "cell_type": "code",
   "execution_count": 58,
   "metadata": {
    "id": "QvgaNOuQhUKg"
   },
   "outputs": [
    {
     "name": "stdout",
     "output_type": "stream",
     "text": [
      "check for null values\n"
     ]
    },
    {
     "data": {
      "text/plain": [
       "Age                             0\n",
       "Gender                          0\n",
       "Country                         0\n",
       "state                         515\n",
       "self_employed                  18\n",
       "family_history                  0\n",
       "treatment                       0\n",
       "work_interfere                264\n",
       "no_employees                    0\n",
       "remote_work                     0\n",
       "tech_company                    0\n",
       "benefits                        0\n",
       "care_options                    0\n",
       "wellness_program                0\n",
       "seek_help                       0\n",
       "anonymity                       0\n",
       "leave                           0\n",
       "mental_health_consequence       0\n",
       "phys_health_consequence         0\n",
       "coworkers                       0\n",
       "supervisor                      0\n",
       "mental_health_interview         0\n",
       "phys_health_interview           0\n",
       "mental_vs_physical              0\n",
       "obs_consequence                 0\n",
       "comments                     1095\n",
       "dtype: int64"
      ]
     },
     "execution_count": 58,
     "metadata": {},
     "output_type": "execute_result"
    }
   ],
   "source": [
    "print('check for null values')\n",
    "df.isna().sum()"
   ]
  },
  {
   "cell_type": "code",
   "execution_count": 59,
   "metadata": {
    "colab": {
     "base_uri": "https://localhost:8080/",
     "height": 408
    },
    "id": "I6zjAKGc1ZaZ",
    "outputId": "5d6567ec-0cb0-4b31-cf69-e30e18045bcc"
   },
   "outputs": [
    {
     "name": "stdout",
     "output_type": "stream",
     "text": [
      "drop uncessary columns\n"
     ]
    },
    {
     "data": {
      "text/plain": [
       "\" need to decide which columns to drop\\ndf.drop(['Country'], axis=1, inplace=True)\\n\""
      ]
     },
     "execution_count": 59,
     "metadata": {},
     "output_type": "execute_result"
    }
   ],
   "source": [
    "print('drop uncessary columns')\n",
    "''' need to decide which columns to drop\n",
    "df.drop(['Country'], axis=1, inplace=True)\n",
    "'''"
   ]
  },
  {
   "cell_type": "code",
   "execution_count": 60,
   "metadata": {
    "colab": {
     "base_uri": "https://localhost:8080/",
     "height": 701
    },
    "id": "772XCQJ41tUJ",
    "outputId": "16307aa6-f58c-4365-ee95-e7c6ad2a7ba5"
   },
   "outputs": [
    {
     "data": {
      "text/plain": [
       "seek_help\n",
       "No            646\n",
       "Don't know    363\n",
       "Yes           250\n",
       "Name: count, dtype: int64"
      ]
     },
     "metadata": {},
     "output_type": "display_data"
    },
    {
     "data": {
      "text/plain": [
       "benefits\n",
       "Yes           477\n",
       "Don't know    408\n",
       "No            374\n",
       "Name: count, dtype: int64"
      ]
     },
     "metadata": {},
     "output_type": "display_data"
    },
    {
     "data": {
      "text/plain": [
       "care_options\n",
       "No          501\n",
       "Yes         444\n",
       "Not sure    314\n",
       "Name: count, dtype: int64"
      ]
     },
     "metadata": {},
     "output_type": "display_data"
    },
    {
     "data": {
      "text/plain": [
       "wellness_program\n",
       "No            842\n",
       "Yes           229\n",
       "Don't know    188\n",
       "Name: count, dtype: int64"
      ]
     },
     "metadata": {},
     "output_type": "display_data"
    },
    {
     "data": {
      "text/plain": [
       "leave\n",
       "Don't know            563\n",
       "Somewhat easy         266\n",
       "Very easy             206\n",
       "Somewhat difficult    126\n",
       "Very difficult         98\n",
       "Name: count, dtype: int64"
      ]
     },
     "metadata": {},
     "output_type": "display_data"
    },
    {
     "data": {
      "text/plain": [
       "mental_health_consequence\n",
       "No       490\n",
       "Maybe    477\n",
       "Yes      292\n",
       "Name: count, dtype: int64"
      ]
     },
     "metadata": {},
     "output_type": "display_data"
    },
    {
     "data": {
      "text/plain": [
       "phys_health_consequence\n",
       "No       925\n",
       "Maybe    273\n",
       "Yes       61\n",
       "Name: count, dtype: int64"
      ]
     },
     "metadata": {},
     "output_type": "display_data"
    }
   ],
   "source": [
    "#print(\"drop nulls\")\n",
    "''' need to filter before running this:\n",
    "df.dropna(how='any', axis=0, inplace=True)\n",
    "'''\n",
    "display(df['seek_help'].value_counts())\n",
    "display(df['benefits'].value_counts())\n",
    "display(df['care_options'].value_counts())\n",
    "display(df['wellness_program'].value_counts())\n",
    "display(df['leave'].value_counts())\n",
    "display(df['mental_health_consequence'].value_counts())\n",
    "display(df['phys_health_consequence'].value_counts())\n"
   ]
  },
  {
   "cell_type": "code",
   "execution_count": 61,
   "metadata": {
    "colab": {
     "base_uri": "https://localhost:8080/",
     "height": 327
    },
    "id": "b5TGvOPR2wSh",
    "outputId": "4b5b32f8-6a72-4b66-b221-cd7aff113431"
   },
   "outputs": [
    {
     "name": "stderr",
     "output_type": "stream",
     "text": [
      "C:\\Users\\Connor\\AppData\\Local\\Temp\\ipykernel_1148\\364397257.py:12: SettingWithCopyWarning: \n",
      "A value is trying to be set on a copy of a slice from a DataFrame\n",
      "\n",
      "See the caveats in the documentation: https://pandas.pydata.org/pandas-docs/stable/user_guide/indexing.html#returning-a-view-versus-a-copy\n",
      "  big_df.drop(big_df[big_df['anonymity'] == \"Don't know\"].index, inplace=True)\n",
      "C:\\Users\\Connor\\AppData\\Local\\Temp\\ipykernel_1148\\364397257.py:13: SettingWithCopyWarning: \n",
      "A value is trying to be set on a copy of a slice from a DataFrame\n",
      "\n",
      "See the caveats in the documentation: https://pandas.pydata.org/pandas-docs/stable/user_guide/indexing.html#returning-a-view-versus-a-copy\n",
      "  big_df.drop(big_df[big_df['mental_vs_physical'] == \"Don't know\"].index, inplace=True)\n",
      "C:\\Users\\Connor\\AppData\\Local\\Temp\\ipykernel_1148\\364397257.py:14: SettingWithCopyWarning: \n",
      "A value is trying to be set on a copy of a slice from a DataFrame\n",
      "\n",
      "See the caveats in the documentation: https://pandas.pydata.org/pandas-docs/stable/user_guide/indexing.html#returning-a-view-versus-a-copy\n",
      "  big_df.drop(big_df[big_df['anonymity'] == \"Don't know\"].index, inplace=True)\n"
     ]
    }
   ],
   "source": [
    "my_df = df[['work_interfere','benefits','care_options','wellness_program','seek_help','leave','mental_health_consequence','phys_health_consequence']]\n",
    "big_df = df[['work_interfere','family_history','treatment','remote_work','tech_company','anonymity','coworkers','supervisor','mental_health_interview', 'phys_health_interview','mental_vs_physical','obs_consequence']]\n",
    "\n",
    "#Code below removes all 'don't know and NaN' values from my_df and results in df_filtered1\n",
    "columns_to_check = ['benefits', 'wellness_program', 'seek_help', 'leave']\n",
    "\n",
    "df_filtered = my_df[~my_df[columns_to_check].apply(lambda row: row.isin([\"Don't know\"]).any(), axis=1)]\n",
    "df_filtered1 = df_filtered[df_filtered['care_options'] != \"Not sure\"]\n",
    "df_filtered1 = df_filtered1.dropna(subset=['work_interfere'])\n",
    "\n",
    "#Same for big_df, except with optimized code that allows it to retain its original name\n",
    "big_df.drop(big_df[big_df['anonymity'] == \"Don't know\"].index, inplace=True)\n",
    "big_df.drop(big_df[big_df['mental_vs_physical'] == \"Don't know\"].index, inplace=True)\n",
    "big_df.drop(big_df[big_df['anonymity'] == \"Don't know\"].index, inplace=True)\n",
    "big_df = big_df.dropna(subset=['work_interfere'])\n",
    "\n",
    "\n",
    "\n",
    "\n"
   ]
  },
  {
   "cell_type": "code",
   "execution_count": 62,
   "metadata": {},
   "outputs": [],
   "source": [
    "#Changing values to fit the Y/N/Maybe numerical system i build later\n",
    "condense_mapping = {\n",
    "    'Somewhat easy': 'Easy',\n",
    "    'Very easy': 'Easy',\n",
    "    'Somewhat difficult': 'Difficult',\n",
    "    'Very difficult': 'Difficult'\n",
    "}\n",
    "df_filtered1['leave'] = df_filtered1['leave'].replace(condense_mapping)\n",
    "\n",
    "#Same as above\n",
    "fun_mapping = {'Some of them':'Maybe'}\n",
    "\n",
    "big_df['coworkers'] = big_df['coworkers'].replace(fun_mapping)\n",
    "\n",
    "#changing work interfere into y/n as oppposed to 4 answers to help with correlation w/ small sample size, only works for temp_df though, not big_df, unsure why\n",
    "silly_mapping = {\n",
    "    'Never': 'No',\n",
    "    'Rarely': 'No',\n",
    "    'Sometimes': 'Yes',\n",
    "    'Often': 'Yes'\n",
    "}\n",
    "df_filtered1['work_interfere'] = df_filtered1['work_interfere'].replace(silly_mapping)\n",
    "#big_df['work_interfere'] = big_df['work_interfere'].replace(silly_mapping)\n",
    "\n",
    "\n"
   ]
  },
  {
   "cell_type": "code",
   "execution_count": 63,
   "metadata": {},
   "outputs": [
    {
     "data": {
      "text/plain": [
       "work_interfere_encoded               1.000000\n",
       "mental_health_consequence_encoded    0.097573\n",
       "phys_health_consequence_encoded      0.077444\n",
       "care_options_encoded                -0.022188\n",
       "benefits_encoded                    -0.055253\n",
       "leave_encoded                       -0.091073\n",
       "wellness_program_encoded            -0.113929\n",
       "seek_help_encoded                   -0.142600\n",
       "Name: work_interfere_encoded, dtype: float64"
      ]
     },
     "metadata": {},
     "output_type": "display_data"
    },
    {
     "data": {
      "text/plain": [
       "work_interfere_encoded             1.000000\n",
       "treatment_encoded                  0.514629\n",
       "obs_consequence_encoded            0.276690\n",
       "family_history_encoded             0.261542\n",
       "phys_health_interview_encoded      0.065088\n",
       "remote_work_encoded               -0.003699\n",
       "coworkers_encoded                 -0.017487\n",
       "anonymity_encoded                 -0.038373\n",
       "mental_health_interview_encoded   -0.076426\n",
       "tech_company_encoded              -0.093566\n",
       "supervisor_encoded                -0.133909\n",
       "mental_vs_physical_encoded        -0.156797\n",
       "work_interfere                          NaN\n",
       "Name: work_interfere_encoded, dtype: float64"
      ]
     },
     "metadata": {},
     "output_type": "display_data"
    }
   ],
   "source": [
    "#Dictionaries for maps I will be applying to all of my new columns. \n",
    "map1 = {'Never': 0, 'Rarely': 1, 'Sometimes': 2, 'Often': 3}\n",
    "map2 = {'No': 0, 'Maybe': 1, 'Yes': 2}\n",
    "map3 = {'No': 0, 'Yes': 2}\n",
    "map4 = {'Difficult':0, 'Easy':2}\n",
    "\n",
    "#Creating new columns by applying the map function to referenced column, converting all words to numbers 0-2\n",
    "df_filtered1['work_interfere_encoded'] = df_filtered1['work_interfere'].map(map1)\n",
    "df_filtered1['benefits_encoded'] = df_filtered1['benefits'].map(map3)\n",
    "df_filtered1['care_options_encoded'] = df_filtered1['care_options'].map(map3)\n",
    "df_filtered1['wellness_program_encoded'] = df_filtered1['wellness_program'].map(map3)\n",
    "df_filtered1['seek_help_encoded'] = df_filtered1['seek_help'].map(map3)\n",
    "df_filtered1['leave_encoded'] = df_filtered1['leave'].map(map4)\n",
    "df_filtered1['mental_health_consequence_encoded'] = df_filtered1['mental_health_consequence'].map(map2)\n",
    "df_filtered1['phys_health_consequence_encoded'] = df_filtered1['phys_health_consequence'].map(map2)\n",
    "\n",
    "\n",
    "#Same with big df\n",
    "big_df['work_interfere_encoded'] = big_df['work_interfere'].map(map1)\n",
    "big_df['family_history_encoded'] = big_df['family_history'].map(map3)\n",
    "big_df['treatment_encoded'] = big_df['treatment'].map(map3)\n",
    "big_df['remote_work_encoded'] = big_df['remote_work'].map(map3)\n",
    "big_df['tech_company_encoded'] = big_df['tech_company'].map(map3)\n",
    "big_df['anonymity_encoded'] = big_df['anonymity'].map(map3)\n",
    "big_df['coworkers_encoded'] = big_df['coworkers'].map(map2)\n",
    "big_df['supervisor_encoded'] = big_df['supervisor'].map(map3)\n",
    "big_df['obs_consequence_encoded'] = big_df['obs_consequence'].map(map3)\n",
    "big_df['mental_health_interview_encoded'] = big_df['mental_health_interview'].map(map2)\n",
    "big_df['phys_health_interview_encoded']  = big_df['phys_health_interview'].map(map2)\n",
    "big_df['mental_vs_physical_encoded'] = big_df['mental_vs_physical'].map(map3)\n",
    "\n",
    "#Created a copy because I confused myself, will program this out later, but temp_df is the new df_filtered1\n",
    "temp_df = df_filtered1.copy()\n",
    "\n",
    "temp_df['work_interfere_encoded'] = temp_df['work_interfere'].map(map3)\n",
    "big_df['work_interfere'] = big_df['work_interfere'].map(map3)\n",
    "\n",
    "#goes through all columns in df, selects all itemtypes = int64 and float64 saves to variable\n",
    "numeric_columns_temp = temp_df.select_dtypes(include=['int64', 'float64']).columns\n",
    "\n",
    "#Goes into temp_df, takes all the columns with numerical values and correlates them all against work_interfere_encoded\n",
    "correlations_temp = temp_df[numeric_columns_temp].corr()['work_interfere_encoded'].sort_values(ascending=False)\n",
    "\n",
    "#Same as above with other df, need to figure out how to change work_interfere to 2 answers instead of 4 to be consistent with other data set, but only like a 5% change so.. will do later :)           \n",
    "numeric_columns_big = big_df.select_dtypes(include=['int64', 'float64']).columns\n",
    "correlations_big = big_df[numeric_columns_big].corr()['work_interfere_encoded'].sort_values(ascending=False)\n",
    "correlations_big.dtypes\n",
    "display(correlations_temp)\n",
    "display(correlations_big)\n",
    "\n",
    "\n"
   ]
  },
  {
   "cell_type": "code",
   "execution_count": 64,
   "metadata": {
    "colab": {
     "base_uri": "https://localhost:8080/"
    },
    "id": "KIUKTTjHhUKh",
    "outputId": "7d85b13b-a7d1-4e1b-9ba5-ec9811a30af1"
   },
   "outputs": [],
   "source": [
    "#big_df['work_interfere'] = big_df['work_interfere'].replace(silly_mapping)\n"
   ]
  },
  {
   "cell_type": "code",
   "execution_count": null,
   "metadata": {
    "colab": {
     "base_uri": "https://localhost:8080/"
    },
    "id": "lKVu0_NYhUKh",
    "outputId": "53722bfe-e6f6-4b48-e011-96fe6963ea51"
   },
   "outputs": [],
   "source": []
  },
  {
   "cell_type": "code",
   "execution_count": null,
   "metadata": {
    "colab": {
     "base_uri": "https://localhost:8080/",
     "height": 204
    },
    "id": "kVZOAn7khUKi",
    "outputId": "b659a083-e857-4486-b99c-c05faa78d8f7"
   },
   "outputs": [],
   "source": []
  },
  {
   "cell_type": "code",
   "execution_count": null,
   "metadata": {
    "colab": {
     "base_uri": "https://localhost:8080/",
     "height": 394
    },
    "id": "uy6eLI2IhUKi",
    "outputId": "713c3c56-4316-4141-d664-8163b3beb3d4"
   },
   "outputs": [],
   "source": []
  },
  {
   "cell_type": "code",
   "execution_count": null,
   "metadata": {
    "colab": {
     "base_uri": "https://localhost:8080/",
     "height": 865
    },
    "id": "Gxzo3c4BhUKj",
    "outputId": "6fd8fe91-3682-4574-b677-45f7b1f3b802"
   },
   "outputs": [],
   "source": []
  },
  {
   "cell_type": "code",
   "execution_count": null,
   "metadata": {
    "colab": {
     "base_uri": "https://localhost:8080/",
     "height": 873
    },
    "id": "1CiVmFg1hUKj",
    "outputId": "aec13f5b-2119-46e9-a9a8-aee90776d6f7"
   },
   "outputs": [],
   "source": []
  },
  {
   "cell_type": "code",
   "execution_count": null,
   "metadata": {
    "colab": {
     "base_uri": "https://localhost:8080/",
     "height": 425
    },
    "id": "wbEoPuNVhUKk",
    "outputId": "9b777fc2-d7bf-475f-db90-6b7939b58003"
   },
   "outputs": [],
   "source": []
  },
  {
   "cell_type": "code",
   "execution_count": null,
   "metadata": {
    "colab": {
     "base_uri": "https://localhost:8080/",
     "height": 17
    },
    "id": "ZerSHahuhUKl",
    "outputId": "a1406310-862f-4836-fdbe-dc2ac6e6f357"
   },
   "outputs": [],
   "source": []
  },
  {
   "cell_type": "code",
   "execution_count": null,
   "metadata": {
    "colab": {
     "base_uri": "https://localhost:8080/",
     "height": 235
    },
    "id": "V579kyj-hUKl",
    "outputId": "48d9cdeb-61e3-473d-daa2-9adcd8b85606"
   },
   "outputs": [],
   "source": []
  },
  {
   "cell_type": "code",
   "execution_count": null,
   "metadata": {
    "colab": {
     "base_uri": "https://localhost:8080/"
    },
    "id": "65rAhDh1hUKl",
    "outputId": "6f3bedb3-8f50-4355-b67c-da488f9702c8"
   },
   "outputs": [],
   "source": []
  },
  {
   "cell_type": "code",
   "execution_count": null,
   "metadata": {
    "id": "glyAOIhH5Fu8"
   },
   "outputs": [],
   "source": []
  },
  {
   "cell_type": "code",
   "execution_count": null,
   "metadata": {},
   "outputs": [],
   "source": []
  },
  {
   "cell_type": "code",
   "execution_count": null,
   "metadata": {},
   "outputs": [],
   "source": []
  },
  {
   "cell_type": "code",
   "execution_count": null,
   "metadata": {},
   "outputs": [],
   "source": []
  },
  {
   "cell_type": "code",
   "execution_count": null,
   "metadata": {},
   "outputs": [],
   "source": []
  },
  {
   "cell_type": "code",
   "execution_count": null,
   "metadata": {},
   "outputs": [],
   "source": []
  },
  {
   "cell_type": "code",
   "execution_count": null,
   "metadata": {},
   "outputs": [],
   "source": []
  },
  {
   "cell_type": "code",
   "execution_count": null,
   "metadata": {},
   "outputs": [],
   "source": []
  },
  {
   "cell_type": "code",
   "execution_count": null,
   "metadata": {},
   "outputs": [],
   "source": []
  },
  {
   "cell_type": "code",
   "execution_count": null,
   "metadata": {},
   "outputs": [],
   "source": []
  },
  {
   "cell_type": "code",
   "execution_count": null,
   "metadata": {},
   "outputs": [],
   "source": []
  },
  {
   "cell_type": "code",
   "execution_count": null,
   "metadata": {},
   "outputs": [],
   "source": []
  },
  {
   "cell_type": "code",
   "execution_count": null,
   "metadata": {},
   "outputs": [],
   "source": []
  },
  {
   "cell_type": "code",
   "execution_count": null,
   "metadata": {},
   "outputs": [],
   "source": []
  },
  {
   "cell_type": "code",
   "execution_count": null,
   "metadata": {},
   "outputs": [],
   "source": []
  },
  {
   "cell_type": "code",
   "execution_count": null,
   "metadata": {},
   "outputs": [],
   "source": []
  },
  {
   "cell_type": "code",
   "execution_count": null,
   "metadata": {},
   "outputs": [],
   "source": []
  },
  {
   "cell_type": "code",
   "execution_count": null,
   "metadata": {},
   "outputs": [],
   "source": []
  },
  {
   "cell_type": "code",
   "execution_count": null,
   "metadata": {},
   "outputs": [],
   "source": []
  },
  {
   "cell_type": "code",
   "execution_count": null,
   "metadata": {},
   "outputs": [],
   "source": []
  },
  {
   "cell_type": "code",
   "execution_count": null,
   "metadata": {},
   "outputs": [],
   "source": []
  },
  {
   "cell_type": "code",
   "execution_count": null,
   "metadata": {},
   "outputs": [],
   "source": []
  },
  {
   "cell_type": "code",
   "execution_count": null,
   "metadata": {},
   "outputs": [],
   "source": []
  },
  {
   "cell_type": "code",
   "execution_count": null,
   "metadata": {},
   "outputs": [],
   "source": []
  },
  {
   "cell_type": "code",
   "execution_count": null,
   "metadata": {},
   "outputs": [],
   "source": []
  },
  {
   "cell_type": "code",
   "execution_count": null,
   "metadata": {},
   "outputs": [],
   "source": []
  },
  {
   "cell_type": "code",
   "execution_count": null,
   "metadata": {},
   "outputs": [],
   "source": []
  },
  {
   "cell_type": "code",
   "execution_count": null,
   "metadata": {},
   "outputs": [],
   "source": []
  },
  {
   "cell_type": "code",
   "execution_count": null,
   "metadata": {},
   "outputs": [],
   "source": []
  },
  {
   "cell_type": "code",
   "execution_count": null,
   "metadata": {},
   "outputs": [],
   "source": []
  },
  {
   "cell_type": "code",
   "execution_count": null,
   "metadata": {},
   "outputs": [],
   "source": []
  },
  {
   "cell_type": "code",
   "execution_count": null,
   "metadata": {},
   "outputs": [],
   "source": []
  },
  {
   "cell_type": "code",
   "execution_count": null,
   "metadata": {},
   "outputs": [],
   "source": []
  },
  {
   "cell_type": "code",
   "execution_count": null,
   "metadata": {},
   "outputs": [],
   "source": []
  }
 ],
 "metadata": {
  "colab": {
   "collapsed_sections": [],
   "name": "forecasting-bitcoin-prices.ipynb",
   "provenance": []
  },
  "kernelspec": {
   "display_name": "Python 3 (ipykernel)",
   "language": "python",
   "name": "python3"
  },
  "language_info": {
   "codemirror_mode": {
    "name": "ipython",
    "version": 3
   },
   "file_extension": ".py",
   "mimetype": "text/x-python",
   "name": "python",
   "nbconvert_exporter": "python",
   "pygments_lexer": "ipython3",
   "version": "3.10.14"
  },
  "nteract": {
   "version": "0.28.0"
  }
 },
 "nbformat": 4,
 "nbformat_minor": 4
}
